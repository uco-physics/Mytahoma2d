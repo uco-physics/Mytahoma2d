{
  "nbformat": 4,
  "nbformat_minor": 0,
  "metadata": {
    "colab": {
      "provenance": [],
      "authorship_tag": "ABX9TyNHcibzoxv63PGG2/t21mES",
      "include_colab_link": true
    },
    "kernelspec": {
      "name": "python3",
      "display_name": "Python 3"
    },
    "language_info": {
      "name": "python"
    }
  },
  "cells": [
    {
      "cell_type": "markdown",
      "metadata": {
        "id": "view-in-github",
        "colab_type": "text"
      },
      "source": [
        "<a href=\"https://colab.research.google.com/github/uco-physics/Mytahoma2d/blob/master/Untitled0.ipynb\" target=\"_parent\"><img src=\"https://colab.research.google.com/assets/colab-badge.svg\" alt=\"Open In Colab\"/></a>"
      ]
    },
    {
      "cell_type": "code",
      "source": [
        "!pip install gradio"
      ],
      "metadata": {
        "id": "EcI-rrGDZgvW"
      },
      "execution_count": null,
      "outputs": []
    },
    {
      "cell_type": "code",
      "execution_count": null,
      "metadata": {
        "id": "hiB2hBipZO11"
      },
      "outputs": [],
      "source": [
        "import gradio as gr\n",
        "\n",
        "def render_html(url):\n",
        "    import requests\n",
        "    from bs4 import BeautifulSoup\n",
        "\n",
        "    response = requests.get(url)\n",
        "    html = response.content\n",
        "    if 'iso-2023-jp' in response.headers['content-type']:\n",
        "        html = html.decode('iso-2022-jp').encode('utf-8')\n",
        "    soup = BeautifulSoup(html, 'html.parser')\n",
        "    return str(soup)\n",
        "\n",
        "inputs = gr.inputs.Textbox(label=\"URL\")\n",
        "outputs = gr.outputs.HTML()\n",
        "\n",
        "interface = gr.Interface(fn=render_html, inputs=inputs, outputs=outputs)\n"
      ]
    },
    {
      "cell_type": "code",
      "source": [
        "interface.launch()\n"
      ],
      "metadata": {
        "id": "nwuIUZPEZ225"
      },
      "execution_count": null,
      "outputs": []
    }
  ]
}