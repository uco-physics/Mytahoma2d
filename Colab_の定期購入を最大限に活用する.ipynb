{
  "cells": [
    {
      "cell_type": "markdown",
      "metadata": {
        "id": "view-in-github",
        "colab_type": "text"
      },
      "source": [
        "<a href=\"https://colab.research.google.com/github/uco-physics/Mytahoma2d/blob/master/Colab_%E3%81%AE%E5%AE%9A%E6%9C%9F%E8%B3%BC%E5%85%A5%E3%82%92%E6%9C%80%E5%A4%A7%E9%99%90%E3%81%AB%E6%B4%BB%E7%94%A8%E3%81%99%E3%82%8B.ipynb\" target=\"_parent\"><img src=\"https://colab.research.google.com/assets/colab-badge.svg\" alt=\"Open In Colab\"/></a>"
      ]
    },
    {
      "cell_type": "markdown",
      "metadata": {
        "id": "SKQ4bH7qMGrA"
      },
      "source": [
        "# Colab の定期購入を最大限に活用する\n",
        "\n"
      ]
    },
    {
      "cell_type": "markdown",
      "metadata": {
        "id": "QMMqmdiYMkvi"
      },
      "source": [
        "## より速い GPU\n",
        "\n",
        "<p>Colab の有料プランのいずれかを購入されたユーザーは、プレミアム GPU をご利用いただけます。ノートブックの GPU 設定は、メニューの <code>&#91;ランタイム&#93; &gt; &#91;ランタイムのタイプを変更&#93;</code> でプレミアム アクセラレータを有効にすればアップグレードできます。プレミアム GPU を選択すると、V100 または A100 Nvidia GPU をそのときの提供状況に応じて利用できます。</p>\n",
        "<p>Colab の料金がかからないバージョンでは、Nvidia の T4 GPU を割り当て制限内で利用できます（提供状況に応じます）。</p>\n",
        "\n",
        "次のセルを実行することで、どの GPU が割り当てられているかをいつでも確認できます。以下のコードセルを実行して「Not connected to a GPU」と表示された場合、メニューで <code>&#91;ランタイム&#93; &gt; &#91;ランタイムのタイプを変更&#93;</code> に移動して GPU アクセラレータを有効にすれば、ランタイムを変更できます。その後、コードセルを再実行します。"
      ]
    },
    {
      "cell_type": "code",
      "execution_count": null,
      "metadata": {
        "id": "23TOba33L4qf"
      },
      "outputs": [],
      "source": [
        "gpu_info = !nvidia-smi\n",
        "gpu_info = '\\n'.join(gpu_info)\n",
        "if gpu_info.find('failed') >= 0:\n",
        "  print('Not connected to a GPU')\n",
        "else:\n",
        "  print(gpu_info)"
      ]
    },
    {
      "cell_type": "markdown",
      "metadata": {
        "id": "Sa-IrJS1aRVJ"
      },
      "source": [
        "ノートブックで GPU を使用するには、メニューで <code>&#91;ランタイム&#93; &gt; &#91;ランタイムのタイプを変更&#93;</code> を選択後、ハードウェア アクセラレータのプルダウンから &#91;GPU&#93; を選択します。"
      ]
    },
    {
      "cell_type": "markdown",
      "metadata": {
        "id": "65MSuHKqNeBZ"
      },
      "source": [
        "## より多くのメモリ\n",
        "\n",
        "Colab の有料プランのいずれかを購入されたユーザーは、ハイメモリ VM を提供状況に応じて利用できます。\n",
        "次のコードセルを実行すれば、いつでも使用可能なメモリ量を確認できます。以下のコードセルを実行して「Not using a high-RAM runtime」と表示された場合、メニューの <code>&#91;ランタイム&#93; &gt; &#91;ランタイムのタイプを変更&#93;</code> でハイメモリ ランタイムを有効にできます。その際、ランタイムの仕様のプルダウンで &#91;ハイメモリ&#93; を選択します。その後、コードセルを再実行します。"
      ]
    },
    {
      "cell_type": "code",
      "execution_count": null,
      "metadata": {
        "id": "V1G82GuO-tez"
      },
      "outputs": [],
      "source": [
        "from psutil import virtual_memory\n",
        "ram_gb = virtual_memory().total / 1e9\n",
        "print('Your runtime has {:.1f} gigabytes of available RAM\\n'.format(ram_gb))\n",
        "\n",
        "if ram_gb < 20:\n",
        "  print('Not using a high-RAM runtime')\n",
        "else:\n",
        "  print('You are using a high-RAM runtime!')"
      ]
    },
    {
      "cell_type": "markdown",
      "metadata": {
        "id": "BJW8Qi-pPpep"
      },
      "source": [
        "## より長時間の使用\n",
        "\n",
        "Colab のランタイムはすべて一定期間後にリセットされます（コードを実行していないランタイムはそれより早くリセットされます）。Colab Pro と Colab Pro+ のユーザーの場合、Colab を料金なしで利用しているユーザーよりもランタイムの接続時間が長くなります。\n",
        "\n",
        "## バックグラウンド実行\n",
        "\n",
        "Colab Pro+ ユーザーは、バックグラウンド実行が可能です。バックグラウンド実行の場合、ブラウザタブを閉じた後も、ノートブックの実行が継続します。Pro+ のランタイムでは、使用できるコンピューティング ユニットがある限り、この機能は常に有効になります。\n"
      ]
    },
    {
      "cell_type": "markdown",
      "metadata": {
        "id": "uLlTRcMM_h0k"
      },
      "source": [
        "## Colab Pro でのリソース制限の緩和\n",
        "\n",
        "Colab では利用できるリソースに制限があります。Colab を最大限に活用するには、リソースを有効に利用してください。たとえば、必要な場合にのみ GPU を使用し、作業が終了したら Colab のタブを閉じることで無駄な利用を避けられます。\n",
        "\n",
        "制限に達した場合は、従量課金制のコンピューティング ユニットを購入することで、制限を緩和できます。<a href=\"https://colab.research.google.com/signup\">従量課金制</a>でコンピューティング ユニットを購入するのは誰でも可能で、定期購入は不要です。"
      ]
    },
    {
      "cell_type": "markdown",
      "metadata": {
        "id": "mm8FzEidvPs6"
      },
      "source": [
        "## フィードバックのお願い\n",
        "\n",
        "<p>ご意見がございましたら、Google までお問い合わせください。フィードバックを送信する場合は、メニューから &#91;ヘルプ&#93; &gt; &#91;フィードバックを送信&#93; を選択してください。Colab Pro で使用量の上限に達した場合は、Pro+ を利用することをご検討ください。</p>\n",
        "<p>Colab Pro、Pro+ の請求（お支払い）または従量課金制に関してエラーやその他の問題が発生した場合は、<a href=\"mailto:colab-billing@google.com\">colab-billing@google.com</a> までお問い合わせください。</p>"
      ]
    },
    {
      "cell_type": "markdown",
      "metadata": {
        "id": "qB3bdLe8jkAa"
      },
      "source": [
        "## その他のリソース\n",
        "\n",
        "### Colab でのノートブックの操作\n",
        "- [Colaboratory の概要](/notebooks/basic_features_overview.ipynb)\n",
        "- [markdown のガイド](/notebooks/markdown_guide.ipynb)\n",
        "- [ライブラリのインポートと依存関係のインストール](/notebooks/snippets/importing_libraries.ipynb)\n",
        "- [GitHub でのノートブックの保存と読み込み](https://colab.research.google.com/github/googlecolab/colabtools/blob/master/notebooks/colab-github-demo.ipynb)\n",
        "- [インタラクティブなフォーム](/notebooks/forms.ipynb)\n",
        "- [インタラクティブなウィジェット](/notebooks/widgets.ipynb)\n",
        "\n",
        "<a name=\"working-with-data\"></a>\n",
        "### データの操作\n",
        "- [データの読み込み: ドライブ、スプレッドシート、Google Cloud Storage](/notebooks/io.ipynb)\n",
        "- [グラフ: データの視覚化](/notebooks/charts.ipynb)\n",
        "- [BigQuery を使ってみる](/notebooks/bigquery.ipynb)\n",
        "\n",
        "### 機械学習の集中講座\n",
        "Google の機械学習に関するオンライン コースからいくつかのノートブックをご紹介します。詳しくは、<a href=\"https://developers.google.com/machine-learning/crash-course/\">全コースのウェブサイト</a>をご覧ください。\n",
        "- [Pandas DataFrame の概要](https://colab.research.google.com/github/google/eng-edu/blob/main/ml/cc/exercises/pandas_dataframe_ultraquick_tutorial.ipynb)\n",
        "- [合成データを使用した tf.keras による線形回帰](https://colab.research.google.com/github/google/eng-edu/blob/main/ml/cc/exercises/linear_regression_with_synthetic_data.ipynb)\n",
        "\n",
        "\n",
        "<a name=\"using-accelerated-hardware\"></a>\n",
        "### アクセラレータの使用\n",
        "- [TensorFlow と GPU](/notebooks/gpu.ipynb)\n",
        "- [TensorFlow と TPU](/notebooks/tpu.ipynb)"
      ]
    },
    {
      "cell_type": "markdown",
      "metadata": {
        "id": "RFm2S0Gijqo8"
      },
      "source": [
        "<a name=\"machine-learning-examples\"></a>\n",
        "\n",
        "## 機械学習の例\n",
        "\n",
        "Colaboratory で実現したインタラクティブな機械学習解析のさまざまな応用例は、<a href=\"https://tfhub.dev\">TensorFlow Hub</a> のモデルを活用したチュートリアルでご紹介しています。\n",
        "\n",
        "おすすめの例をご紹介します。\n",
        "\n",
        "- <a href=\"https://tensorflow.org/hub/tutorials/tf2_image_retraining\">画像分類の再トレーニング</a>: 事前トレーニング済みの画像分類を再利用して Keras モデルを構築し、花を分類します。\n",
        "- <a href=\"https://tensorflow.org/hub/tutorials/tf2_text_classification\">テキスト分類</a>: IMDB の映画レビューをポジティブ<em></em>なレビューとネガティブ<em></em>なレビューに分類します。\n",
        "- <a href=\"https://tensorflow.org/hub/tutorials/tf2_arbitrary_image_stylization\">スタイル転送</a>: ディープ ラーニングを使用して画像間でスタイルを転送します。\n",
        "- <a href=\"https://tensorflow.org/hub/tutorials/retrieval_with_tf_hub_universal_encoder_qa\">Multilingual Universal Sentence Encoder の Q&A</a>: 機械学習モデルを使用して、SQuAD データベースからの質問に回答します。\n",
        "- <a href=\"https://tensorflow.org/hub/tutorials/tweening_conv3d\">動画の補間</a>: 動画の最初のフレームと最後のフレームの間に何か起こったのかを予測します。\n"
      ]
    }
  ],
  "metadata": {
    "colab": {
      "name": "Colab の定期購入を最大限に活用する",
      "provenance": [],
      "include_colab_link": true
    },
    "kernelspec": {
      "display_name": "Python 3",
      "name": "python3"
    }
  },
  "nbformat": 4,
  "nbformat_minor": 0
}